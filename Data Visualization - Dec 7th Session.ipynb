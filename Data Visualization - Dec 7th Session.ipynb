{
 "cells": [
  {
   "cell_type": "markdown",
   "metadata": {},
   "source": [
    "# Coding exercise to generate directly JS scripts for Plotly"
   ]
  },
  {
   "cell_type": "code",
   "execution_count": 1,
   "metadata": {},
   "outputs": [],
   "source": [
    "from datetime import datetime as dt\n",
    "\n",
    "from pandas_datareader import data as pdr\n",
    "import pandas as pd\n",
    "import numpy as np\n",
    "import os"
   ]
  },
  {
   "cell_type": "code",
   "execution_count": 2,
   "metadata": {},
   "outputs": [
    {
     "data": {
      "text/html": [
       "<div>\n",
       "<style scoped>\n",
       "    .dataframe tbody tr th:only-of-type {\n",
       "        vertical-align: middle;\n",
       "    }\n",
       "\n",
       "    .dataframe tbody tr th {\n",
       "        vertical-align: top;\n",
       "    }\n",
       "\n",
       "    .dataframe thead th {\n",
       "        text-align: right;\n",
       "    }\n",
       "</style>\n",
       "<table border=\"1\" class=\"dataframe\">\n",
       "  <thead>\n",
       "    <tr style=\"text-align: right;\">\n",
       "      <th></th>\n",
       "      <th>Country</th>\n",
       "      <th>Year</th>\n",
       "      <th>Performance</th>\n",
       "    </tr>\n",
       "  </thead>\n",
       "  <tbody>\n",
       "    <tr>\n",
       "      <th>0</th>\n",
       "      <td>^GSPC</td>\n",
       "      <td>2010</td>\n",
       "      <td>11.001865</td>\n",
       "    </tr>\n",
       "    <tr>\n",
       "      <th>1</th>\n",
       "      <td>^N225</td>\n",
       "      <td>2010</td>\n",
       "      <td>-3.996983</td>\n",
       "    </tr>\n",
       "    <tr>\n",
       "      <th>2</th>\n",
       "      <td>^FCHI</td>\n",
       "      <td>2010</td>\n",
       "      <td>-4.066048</td>\n",
       "    </tr>\n",
       "    <tr>\n",
       "      <th>3</th>\n",
       "      <td>^SMSI</td>\n",
       "      <td>2010</td>\n",
       "      <td>-20.487817</td>\n",
       "    </tr>\n",
       "    <tr>\n",
       "      <th>4</th>\n",
       "      <td>^GSPC</td>\n",
       "      <td>2011</td>\n",
       "      <td>-1.121972</td>\n",
       "    </tr>\n",
       "  </tbody>\n",
       "</table>\n",
       "</div>"
      ],
      "text/plain": [
       "  Country  Year  Performance\n",
       "0   ^GSPC  2010    11.001865\n",
       "1   ^N225  2010    -3.996983\n",
       "2   ^FCHI  2010    -4.066048\n",
       "3   ^SMSI  2010   -20.487817\n",
       "4   ^GSPC  2011    -1.121972"
      ]
     },
     "execution_count": 2,
     "metadata": {},
     "output_type": "execute_result"
    }
   ],
   "source": [
    "tickers=['^GSPC','^N225','^FCHI','^SMSI']\n",
    "years=[2010,2011,2012,2013,2014,2015,2016,2017,2018,2019]\n",
    "\n",
    "df=[]\n",
    "\n",
    "for year in years:\n",
    "    startdate=dt(year,1,1)\n",
    "    enddate=dt(year,12,31)\n",
    "    df_temp=pdr.get_data_yahoo(tickers, start=startdate, end=enddate)['Close']\n",
    "    for ticker in tickers:\n",
    "        perf=((df_temp[ticker].dropna().iloc[-1]/df_temp[ticker].dropna().iloc[0])-1)*100\n",
    "        df.append({'Country':ticker, 'Year':year,'Performance':perf})\n",
    "\n",
    "df=pd.DataFrame(df, columns=('Country','Year','Performance'))\n",
    "df.head()"
   ]
  },
  {
   "cell_type": "code",
   "execution_count": 3,
   "metadata": {},
   "outputs": [],
   "source": [
    "df=df.replace(to_replace=['^GSPC','^N225','^FCHI','^SMSI'], value=['USA','JPN','FRA','CHE'])"
   ]
  },
  {
   "cell_type": "code",
   "execution_count": 4,
   "metadata": {},
   "outputs": [
    {
     "data": {
      "text/html": [
       "<div>\n",
       "<style scoped>\n",
       "    .dataframe tbody tr th:only-of-type {\n",
       "        vertical-align: middle;\n",
       "    }\n",
       "\n",
       "    .dataframe tbody tr th {\n",
       "        vertical-align: top;\n",
       "    }\n",
       "\n",
       "    .dataframe thead th {\n",
       "        text-align: right;\n",
       "    }\n",
       "</style>\n",
       "<table border=\"1\" class=\"dataframe\">\n",
       "  <thead>\n",
       "    <tr style=\"text-align: right;\">\n",
       "      <th></th>\n",
       "      <th>Country</th>\n",
       "      <th>Year</th>\n",
       "      <th>Performance</th>\n",
       "    </tr>\n",
       "  </thead>\n",
       "  <tbody>\n",
       "    <tr>\n",
       "      <th>0</th>\n",
       "      <td>USA</td>\n",
       "      <td>2010</td>\n",
       "      <td>11.001865</td>\n",
       "    </tr>\n",
       "    <tr>\n",
       "      <th>1</th>\n",
       "      <td>JPN</td>\n",
       "      <td>2010</td>\n",
       "      <td>-3.996983</td>\n",
       "    </tr>\n",
       "    <tr>\n",
       "      <th>2</th>\n",
       "      <td>FRA</td>\n",
       "      <td>2010</td>\n",
       "      <td>-4.066048</td>\n",
       "    </tr>\n",
       "    <tr>\n",
       "      <th>3</th>\n",
       "      <td>CHE</td>\n",
       "      <td>2010</td>\n",
       "      <td>-20.487817</td>\n",
       "    </tr>\n",
       "    <tr>\n",
       "      <th>4</th>\n",
       "      <td>USA</td>\n",
       "      <td>2011</td>\n",
       "      <td>-1.121972</td>\n",
       "    </tr>\n",
       "  </tbody>\n",
       "</table>\n",
       "</div>"
      ],
      "text/plain": [
       "  Country  Year  Performance\n",
       "0     USA  2010    11.001865\n",
       "1     JPN  2010    -3.996983\n",
       "2     FRA  2010    -4.066048\n",
       "3     CHE  2010   -20.487817\n",
       "4     USA  2011    -1.121972"
      ]
     },
     "execution_count": 4,
     "metadata": {},
     "output_type": "execute_result"
    }
   ],
   "source": [
    "df.head()"
   ]
  },
  {
   "cell_type": "code",
   "execution_count": 5,
   "metadata": {},
   "outputs": [],
   "source": [
    "countries = ['USA','JPN','FRA','CHE']"
   ]
  },
  {
   "cell_type": "code",
   "execution_count": 11,
   "metadata": {},
   "outputs": [],
   "source": [
    "years=\"\"\n",
    "ret=\"\"\n",
    "d={}\n",
    "\n",
    "for country in countries:\n",
    "    temp=df[df.Country==country]\n",
    "    for index,row in temp.iterrows():\n",
    "        years=years+\"'\"+str(row[\"Year\"])+\"',\"\n",
    "        ret=ret+\"'\"+str(round(row[\"Performance\"],2))+\"',\"\n",
    "\n",
    "    d[\"script\"+str(country)]= \"\"\"var stock\"\"\"+str(country)+\"\"\" = {\n",
    "            x: [\"\"\"+ years[:-1] + \"\"\"],\n",
    "            y: [\"\"\"+ ret[:-1] +\"\"\"],\n",
    "            mode: 'lines+markers',\n",
    "            name: 'Stock \"\"\"+ str(country)+\"\"\"',\n",
    "            line: {\n",
    "                color: 'rgb(28,146,46)',\n",
    "                width: 4,\n",
    "                shape: 'spline'\n",
    "            },\n",
    "            marker: {\n",
    "                color: 'rgb(28,146,46)',\n",
    "                size: 12\n",
    "            }            \n",
    "\n",
    "            };\"\"\"\n"
   ]
  },
  {
   "cell_type": "code",
   "execution_count": 15,
   "metadata": {},
   "outputs": [],
   "source": [
    "final=d[\"scriptFRA\"]+d[\"scriptUSA\"]+d[\"scriptCHE\"]+d[\"scriptJPN\"]+\"\"\"var data = [stockFRA, stockUSA, stockCHE, stockJPN];\n",
    "\n",
    "var layout ={\n",
    "            title: 'Compared stock performances',\n",
    "            xaxis: {\n",
    "            tickmode: 'array',\n",
    "            tickvals: [\"\"\"+years+\"\"\"]\n",
    "            }\n",
    "            };\n",
    "\n",
    "Plotly.newPlot('myViz', data, layout);\"\"\""
   ]
  },
  {
   "cell_type": "code",
   "execution_count": 16,
   "metadata": {},
   "outputs": [],
   "source": [
    "file=open(\"test.js\", \"w\")\n",
    "file.write(final)\n",
    "file.close()"
   ]
  },
  {
   "cell_type": "code",
   "execution_count": null,
   "metadata": {},
   "outputs": [],
   "source": []
  }
 ],
 "metadata": {
  "kernelspec": {
   "display_name": "Python 3",
   "language": "python",
   "name": "python3"
  },
  "language_info": {
   "codemirror_mode": {
    "name": "ipython",
    "version": 3
   },
   "file_extension": ".py",
   "mimetype": "text/x-python",
   "name": "python",
   "nbconvert_exporter": "python",
   "pygments_lexer": "ipython3",
   "version": "3.8.3"
  }
 },
 "nbformat": 4,
 "nbformat_minor": 4
}
